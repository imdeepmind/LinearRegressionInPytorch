{
  "nbformat": 4,
  "nbformat_minor": 0,
  "metadata": {
    "colab": {
      "name": "Linear Regression in Pytorch.ipynb",
      "provenance": []
    },
    "kernelspec": {
      "name": "python3",
      "display_name": "Python 3"
    }
  },
  "cells": [
    {
      "cell_type": "markdown",
      "metadata": {
        "id": "TG3DdVf68oma",
        "colab_type": "text"
      },
      "source": [
        "Making the dataset"
      ]
    },
    {
      "cell_type": "code",
      "metadata": {
        "id": "ZPeXhGq48iYE",
        "colab_type": "code",
        "colab": {}
      },
      "source": [
        "import torch\n",
        "import matplotlib.pyplot as plt"
      ],
      "execution_count": 0,
      "outputs": []
    },
    {
      "cell_type": "code",
      "metadata": {
        "id": "ktJu54tx86wi",
        "colab_type": "code",
        "colab": {
          "base_uri": "https://localhost:8080/",
          "height": 34
        },
        "outputId": "ea713b6b-b53b-444f-efd7-37a190724814"
      },
      "source": [
        "torch.manual_seed(1969)"
      ],
      "execution_count": 2,
      "outputs": [
        {
          "output_type": "execute_result",
          "data": {
            "text/plain": [
              "<torch._C.Generator at 0x7fe958f58790>"
            ]
          },
          "metadata": {
            "tags": []
          },
          "execution_count": 2
        }
      ]
    },
    {
      "cell_type": "code",
      "metadata": {
        "id": "JNK-s0lZ8zKc",
        "colab_type": "code",
        "colab": {}
      },
      "source": [
        "X = torch.randn(100, 1) * 10\n",
        "y = X + 5 * torch.randn(100, 1)"
      ],
      "execution_count": 0,
      "outputs": []
    },
    {
      "cell_type": "code",
      "metadata": {
        "id": "fJ7-AISZ9K5F",
        "colab_type": "code",
        "colab": {
          "base_uri": "https://localhost:8080/",
          "height": 282
        },
        "outputId": "b407e5e2-44af-4ca5-fd79-502e6c2fddf6"
      },
      "source": [
        "plt.plot(X.numpy(), y.numpy(), 'o')"
      ],
      "execution_count": 4,
      "outputs": [
        {
          "output_type": "execute_result",
          "data": {
            "text/plain": [
              "[<matplotlib.lines.Line2D at 0x7fe9589c2c50>]"
            ]
          },
          "metadata": {
            "tags": []
          },
          "execution_count": 4
        },
        {
          "output_type": "display_data",
          "data": {
            "image/png": "[encoded data removed]",
            "text/plain": [
              "<Figure size 432x288 with 1 Axes>"
            ]
          },
          "metadata": {
            "tags": []
          }
        }
      ]
    },
    {
      "cell_type": "markdown",
      "metadata": {
        "id": "VJtZBEIW9i-m",
        "colab_type": "text"
      },
      "source": [
        "The main model"
      ]
    },
    {
      "cell_type": "code",
      "metadata": {
        "id": "wj5DMBdZ9rLS",
        "colab_type": "code",
        "colab": {}
      },
      "source": [
        "import torch\n",
        "import torch.nn as nn"
      ],
      "execution_count": 0,
      "outputs": []
    },
    {
      "cell_type": "code",
      "metadata": {
        "id": "KeWlhfqq9Q-w",
        "colab_type": "code",
        "colab": {}
      },
      "source": [
        "class LinearRegression(nn.Module):\n",
        "  def __init__(self):\n",
        "    super().__init__()\n",
        "    self.l1 = nn.Linear(in_features=1, out_features=1)\n",
        "  def forward(self, x):\n",
        "    return self.l1(x)"
      ],
      "execution_count": 0,
      "outputs": []
    },
    {
      "cell_type": "code",
      "metadata": {
        "id": "YblvrKcU-Ea5",
        "colab_type": "code",
        "colab": {
          "base_uri": "https://localhost:8080/",
          "height": 69
        },
        "outputId": "fe34fedc-9703-4201-d8cc-27ebc0b0558b"
      },
      "source": [
        "model = LinearRegression()\n",
        "model"
      ],
      "execution_count": 7,
      "outputs": [
        {
          "output_type": "execute_result",
          "data": {
            "text/plain": [
              "LinearRegression(\n",
              "  (l1): Linear(in_features=1, out_features=1, bias=True)\n",
              ")"
            ]
          },
          "metadata": {
            "tags": []
          },
          "execution_count": 7
        }
      ]
    },
    {
      "cell_type": "code",
      "metadata": {
        "id": "v7dJIjgH-H6V",
        "colab_type": "code",
        "colab": {}
      },
      "source": [
        "criterion = nn.MSELoss()\n",
        "optimizer = torch.optim.Adam(model.parameters(), lr=0.01)"
      ],
      "execution_count": 0,
      "outputs": []
    },
    {
      "cell_type": "code",
      "metadata": {
        "id": "X00r7aSg-nvk",
        "colab_type": "code",
        "colab": {
          "base_uri": "https://localhost:8080/",
          "height": 34
        },
        "outputId": "c10d8a85-a107-406a-b43b-a6996ab51f8e"
      },
      "source": [
        "model.parameters()"
      ],
      "execution_count": 9,
      "outputs": [
        {
          "output_type": "execute_result",
          "data": {
            "text/plain": [
              "<generator object Module.parameters at 0x7fe9a3fd7048>"
            ]
          },
          "metadata": {
            "tags": []
          },
          "execution_count": 9
        }
      ]
    },
    {
      "cell_type": "code",
      "metadata": {
        "id": "Ohmlp-FV-uQS",
        "colab_type": "code",
        "colab": {}
      },
      "source": [
        "epochs = 500\n",
        "losses = []"
      ],
      "execution_count": 0,
      "outputs": []
    },
    {
      "cell_type": "code",
      "metadata": {
        "id": "uo4mFUU0_DOr",
        "colab_type": "code",
        "colab": {
          "base_uri": "https://localhost:8080/",
          "height": 1000
        },
        "outputId": "dd9719aa-8154-4f43-d0b9-bd3bab02dbf0"
      },
      "source": [
        "for i in range(epochs):\n",
        "  pred = model.forward(X)\n",
        "  loss = criterion(pred, y)\n",
        "\n",
        "  losses.append(loss)\n",
        "  optimizer.zero_grad()\n",
        "  loss.backward()\n",
        "  optimizer.step()\n",
        "\n",
        "  print(\"Epoch: \", i+1, \" Loss: \", loss.item())"
      ],
      "execution_count": 11,
      "outputs": [
        {
          "output_type": "stream",
          "text": [
            "Epoch:  1  Loss:  332.1979675292969\n",
            "Epoch:  2  Loss:  328.6822814941406\n",
            "Epoch:  3  Loss:  325.1871032714844\n",
            "Epoch:  4  Loss:  321.7127685546875\n",
            "Epoch:  5  Loss:  318.2596740722656\n",
            "Epoch:  6  Loss:  314.8280944824219\n",
            "Epoch:  7  Loss:  311.4183654785156\n",
            "Epoch:  8  Loss:  308.0307922363281\n",
            "Epoch:  9  Loss:  304.66571044921875\n",
            "Epoch:  10  Loss:  301.3233947753906\n",
            "Epoch:  11  Loss:  298.00408935546875\n",
            "Epoch:  12  Loss:  294.7080993652344\n",
            "Epoch:  13  Loss:  291.4356689453125\n",
            "Epoch:  14  Loss:  288.1870422363281\n",
            "Epoch:  15  Loss:  284.9624328613281\n",
            "Epoch:  16  Loss:  281.7620849609375\n",
            "Epoch:  17  Loss:  278.586181640625\n",
            "Epoch:  18  Loss:  275.43487548828125\n",
            "Epoch:  19  Loss:  272.30841064453125\n",
            "Epoch:  20  Loss:  269.2069091796875\n",
            "Epoch:  21  Loss:  266.1304931640625\n",
            "Epoch:  22  Loss:  263.079345703125\n",
            "Epoch:  23  Loss:  260.0535583496094\n",
            "Epoch:  24  Loss:  257.0532531738281\n",
            "Epoch:  25  Loss:  254.07847595214844\n",
            "Epoch:  26  Loss:  251.1293487548828\n",
            "Epoch:  27  Loss:  248.2059326171875\n",
            "Epoch:  28  Loss:  245.30825805664062\n",
            "Epoch:  29  Loss:  242.43638610839844\n",
            "Epoch:  30  Loss:  239.59034729003906\n",
            "Epoch:  31  Loss:  236.77017211914062\n",
            "Epoch:  32  Loss:  233.975830078125\n",
            "Epoch:  33  Loss:  231.2073516845703\n",
            "Epoch:  34  Loss:  228.46470642089844\n",
            "Epoch:  35  Loss:  225.7478790283203\n",
            "Epoch:  36  Loss:  223.05685424804688\n",
            "Epoch:  37  Loss:  220.3915557861328\n",
            "Epoch:  38  Loss:  217.75196838378906\n",
            "Epoch:  39  Loss:  215.13803100585938\n",
            "Epoch:  40  Loss:  212.54965209960938\n",
            "Epoch:  41  Loss:  209.98678588867188\n",
            "Epoch:  42  Loss:  207.4493408203125\n",
            "Epoch:  43  Loss:  204.93724060058594\n",
            "Epoch:  44  Loss:  202.45040893554688\n",
            "Epoch:  45  Loss:  199.9887237548828\n",
            "Epoch:  46  Loss:  197.55209350585938\n",
            "Epoch:  47  Loss:  195.1404266357422\n",
            "Epoch:  48  Loss:  192.75360107421875\n",
            "Epoch:  49  Loss:  190.39149475097656\n",
            "Epoch:  50  Loss:  188.05401611328125\n",
            "Epoch:  51  Loss:  185.7410125732422\n",
            "Epoch:  52  Loss:  183.45236206054688\n",
            "Epoch:  53  Loss:  181.1879425048828\n",
            "Epoch:  54  Loss:  178.9476318359375\n",
            "Epoch:  55  Loss:  176.7312774658203\n",
            "Epoch:  56  Loss:  174.53875732421875\n",
            "Epoch:  57  Loss:  172.3699188232422\n",
            "Epoch:  58  Loss:  170.22462463378906\n",
            "Epoch:  59  Loss:  168.1027374267578\n",
            "Epoch:  60  Loss:  166.0041046142578\n",
            "Epoch:  61  Loss:  163.92857360839844\n",
            "Epoch:  62  Loss:  161.87599182128906\n",
            "Epoch:  63  Loss:  159.84622192382812\n",
            "Epoch:  64  Loss:  157.839111328125\n",
            "Epoch:  65  Loss:  155.85450744628906\n",
            "Epoch:  66  Loss:  153.89224243164062\n",
            "Epoch:  67  Loss:  151.95216369628906\n",
            "Epoch:  68  Loss:  150.0341339111328\n",
            "Epoch:  69  Loss:  148.1379852294922\n",
            "Epoch:  70  Loss:  146.2635498046875\n",
            "Epoch:  71  Loss:  144.41067504882812\n",
            "Epoch:  72  Loss:  142.57920837402344\n",
            "Epoch:  73  Loss:  140.7689971923828\n",
            "Epoch:  74  Loss:  138.9798583984375\n",
            "Epoch:  75  Loss:  137.21165466308594\n",
            "Epoch:  76  Loss:  135.46421813964844\n",
            "Epoch:  77  Loss:  133.7373809814453\n",
            "Epoch:  78  Loss:  132.031005859375\n",
            "Epoch:  79  Loss:  130.3448944091797\n",
            "Epoch:  80  Loss:  128.67892456054688\n",
            "Epoch:  81  Loss:  127.03291320800781\n",
            "Epoch:  82  Loss:  125.40670776367188\n",
            "Epoch:  83  Loss:  123.8001480102539\n",
            "Epoch:  84  Loss:  122.21305847167969\n",
            "Epoch:  85  Loss:  120.64529418945312\n",
            "Epoch:  86  Loss:  119.09669494628906\n",
            "Epoch:  87  Loss:  117.56709289550781\n",
            "Epoch:  88  Loss:  116.05633544921875\n",
            "Epoch:  89  Loss:  114.56426239013672\n",
            "Epoch:  90  Loss:  113.09070587158203\n",
            "Epoch:  91  Loss:  111.63551330566406\n",
            "Epoch:  92  Loss:  110.19851684570312\n",
            "Epoch:  93  Loss:  108.77957153320312\n",
            "Epoch:  94  Loss:  107.37850952148438\n",
            "Epoch:  95  Loss:  105.99517822265625\n",
            "Epoch:  96  Loss:  104.6294174194336\n",
            "Epoch:  97  Loss:  103.28106689453125\n",
            "Epoch:  98  Loss:  101.9499740600586\n",
            "Epoch:  99  Loss:  100.63597869873047\n",
            "Epoch:  100  Loss:  99.33892822265625\n",
            "Epoch:  101  Loss:  98.05866241455078\n",
            "Epoch:  102  Loss:  96.79503631591797\n",
            "Epoch:  103  Loss:  95.54788208007812\n",
            "Epoch:  104  Loss:  94.31705474853516\n",
            "Epoch:  105  Loss:  93.1023941040039\n",
            "Epoch:  106  Loss:  91.90375518798828\n",
            "Epoch:  107  Loss:  90.72097778320312\n",
            "Epoch:  108  Loss:  89.55391693115234\n",
            "Epoch:  109  Loss:  88.40241241455078\n",
            "Epoch:  110  Loss:  87.26631927490234\n",
            "Epoch:  111  Loss:  86.1454849243164\n",
            "Epoch:  112  Loss:  85.03976440429688\n",
            "Epoch:  113  Loss:  83.94900512695312\n",
            "Epoch:  114  Loss:  82.87305450439453\n",
            "Epoch:  115  Loss:  81.811767578125\n",
            "Epoch:  116  Loss:  80.76499938964844\n",
            "Epoch:  117  Loss:  79.73260498046875\n",
            "Epoch:  118  Loss:  78.71443176269531\n",
            "Epoch:  119  Loss:  77.71033477783203\n",
            "Epoch:  120  Loss:  76.72017669677734\n",
            "Epoch:  121  Loss:  75.74381256103516\n",
            "Epoch:  122  Loss:  74.78108978271484\n",
            "Epoch:  123  Loss:  73.83187103271484\n",
            "Epoch:  124  Loss:  72.8960189819336\n",
            "Epoch:  125  Loss:  71.973388671875\n",
            "Epoch:  126  Loss:  71.06383514404297\n",
            "Epoch:  127  Loss:  70.16722106933594\n",
            "Epoch:  128  Loss:  69.28341674804688\n",
            "Epoch:  129  Loss:  68.41227722167969\n",
            "Epoch:  130  Loss:  67.55365753173828\n",
            "Epoch:  131  Loss:  66.70743560791016\n",
            "Epoch:  132  Loss:  65.87346649169922\n",
            "Epoch:  133  Loss:  65.05162048339844\n",
            "Epoch:  134  Loss:  64.24175262451172\n",
            "Epoch:  135  Loss:  63.44374084472656\n",
            "Epoch:  136  Loss:  62.65744400024414\n",
            "Epoch:  137  Loss:  61.88274002075195\n",
            "Epoch:  138  Loss:  61.11948776245117\n",
            "Epoch:  139  Loss:  60.36756134033203\n",
            "Epoch:  140  Loss:  59.6268310546875\n",
            "Epoch:  141  Loss:  58.89717102050781\n",
            "Epoch:  142  Loss:  58.17844772338867\n",
            "Epoch:  143  Loss:  57.47053527832031\n",
            "Epoch:  144  Loss:  56.773311614990234\n",
            "Epoch:  145  Loss:  56.086647033691406\n",
            "Epoch:  146  Loss:  55.410423278808594\n",
            "Epoch:  147  Loss:  54.7445068359375\n",
            "Epoch:  148  Loss:  54.088783264160156\n",
            "Epoch:  149  Loss:  53.4431266784668\n",
            "Epoch:  150  Loss:  52.80741882324219\n",
            "Epoch:  151  Loss:  52.18153381347656\n",
            "Epoch:  152  Loss:  51.56536102294922\n",
            "Epoch:  153  Loss:  50.95877456665039\n",
            "Epoch:  154  Loss:  50.36166000366211\n",
            "Epoch:  155  Loss:  49.773902893066406\n",
            "Epoch:  156  Loss:  49.19538116455078\n",
            "Epoch:  157  Loss:  48.6259880065918\n",
            "Epoch:  158  Loss:  48.06560134887695\n",
            "Epoch:  159  Loss:  47.51411437988281\n",
            "Epoch:  160  Loss:  46.97140884399414\n",
            "Epoch:  161  Loss:  46.4373779296875\n",
            "Epoch:  162  Loss:  45.91191482543945\n",
            "Epoch:  163  Loss:  45.394901275634766\n",
            "Epoch:  164  Loss:  44.88623046875\n",
            "Epoch:  165  Loss:  44.38580322265625\n",
            "Epoch:  166  Loss:  43.89350128173828\n",
            "Epoch:  167  Loss:  43.40922546386719\n",
            "Epoch:  168  Loss:  42.932865142822266\n",
            "Epoch:  169  Loss:  42.464324951171875\n",
            "Epoch:  170  Loss:  42.00349044799805\n",
            "Epoch:  171  Loss:  41.550270080566406\n",
            "Epoch:  172  Loss:  41.104557037353516\n",
            "Epoch:  173  Loss:  40.666255950927734\n",
            "Epoch:  174  Loss:  40.235252380371094\n",
            "Epoch:  175  Loss:  39.811466217041016\n",
            "Epoch:  176  Loss:  39.3947868347168\n",
            "Epoch:  177  Loss:  38.98512649536133\n",
            "Epoch:  178  Loss:  38.58237838745117\n",
            "Epoch:  179  Loss:  38.18645095825195\n",
            "Epoch:  180  Loss:  37.79725646972656\n",
            "Epoch:  181  Loss:  37.414695739746094\n",
            "Epoch:  182  Loss:  37.03868103027344\n",
            "Epoch:  183  Loss:  36.66911315917969\n",
            "Epoch:  184  Loss:  36.305912017822266\n",
            "Epoch:  185  Loss:  35.948974609375\n",
            "Epoch:  186  Loss:  35.59822082519531\n",
            "Epoch:  187  Loss:  35.25355911254883\n",
            "Epoch:  188  Loss:  34.91490936279297\n",
            "Epoch:  189  Loss:  34.58217239379883\n",
            "Epoch:  190  Loss:  34.255271911621094\n",
            "Epoch:  191  Loss:  33.93412399291992\n",
            "Epoch:  192  Loss:  33.6186408996582\n",
            "Epoch:  193  Loss:  33.308746337890625\n",
            "Epoch:  194  Loss:  33.00434875488281\n",
            "Epoch:  195  Loss:  32.70536804199219\n",
            "Epoch:  196  Loss:  32.41173553466797\n",
            "Epoch:  197  Loss:  32.12336349487305\n",
            "Epoch:  198  Loss:  31.84016990661621\n",
            "Epoch:  199  Loss:  31.562082290649414\n",
            "Epoch:  200  Loss:  31.28902244567871\n",
            "Epoch:  201  Loss:  31.02091407775879\n",
            "Epoch:  202  Loss:  30.7576847076416\n",
            "Epoch:  203  Loss:  30.4992618560791\n",
            "Epoch:  204  Loss:  30.245563507080078\n",
            "Epoch:  205  Loss:  29.996522903442383\n",
            "Epoch:  206  Loss:  29.752065658569336\n",
            "Epoch:  207  Loss:  29.51212501525879\n",
            "Epoch:  208  Loss:  29.276626586914062\n",
            "Epoch:  209  Loss:  29.045503616333008\n",
            "Epoch:  210  Loss:  28.818687438964844\n",
            "Epoch:  211  Loss:  28.596107482910156\n",
            "Epoch:  212  Loss:  28.377696990966797\n",
            "Epoch:  213  Loss:  28.163394927978516\n",
            "Epoch:  214  Loss:  27.9531307220459\n",
            "Epoch:  215  Loss:  27.746843338012695\n",
            "Epoch:  216  Loss:  27.544469833374023\n",
            "Epoch:  217  Loss:  27.345943450927734\n",
            "Epoch:  218  Loss:  27.151203155517578\n",
            "Epoch:  219  Loss:  26.960186004638672\n",
            "Epoch:  220  Loss:  26.772836685180664\n",
            "Epoch:  221  Loss:  26.58909034729004\n",
            "Epoch:  222  Loss:  26.408889770507812\n",
            "Epoch:  223  Loss:  26.232175827026367\n",
            "Epoch:  224  Loss:  26.05889129638672\n",
            "Epoch:  225  Loss:  25.888978958129883\n",
            "Epoch:  226  Loss:  25.722381591796875\n",
            "Epoch:  227  Loss:  25.559045791625977\n",
            "Epoch:  228  Loss:  25.398916244506836\n",
            "Epoch:  229  Loss:  25.2419376373291\n",
            "Epoch:  230  Loss:  25.088056564331055\n",
            "Epoch:  231  Loss:  24.937223434448242\n",
            "Epoch:  232  Loss:  24.789379119873047\n",
            "Epoch:  233  Loss:  24.64448356628418\n",
            "Epoch:  234  Loss:  24.502477645874023\n",
            "Epoch:  235  Loss:  24.363313674926758\n",
            "Epoch:  236  Loss:  24.226943969726562\n",
            "Epoch:  237  Loss:  24.093318939208984\n",
            "Epoch:  238  Loss:  23.962390899658203\n",
            "Epoch:  239  Loss:  23.8341121673584\n",
            "Epoch:  240  Loss:  23.708436965942383\n",
            "Epoch:  241  Loss:  23.58531951904297\n",
            "Epoch:  242  Loss:  23.46471405029297\n",
            "Epoch:  243  Loss:  23.346576690673828\n",
            "Epoch:  244  Loss:  23.23086166381836\n",
            "Epoch:  245  Loss:  23.117528915405273\n",
            "Epoch:  246  Loss:  23.006534576416016\n",
            "Epoch:  247  Loss:  22.89783477783203\n",
            "Epoch:  248  Loss:  22.79138946533203\n",
            "Epoch:  249  Loss:  22.687156677246094\n",
            "Epoch:  250  Loss:  22.585098266601562\n",
            "Epoch:  251  Loss:  22.485172271728516\n",
            "Epoch:  252  Loss:  22.38734245300293\n",
            "Epoch:  253  Loss:  22.291566848754883\n",
            "Epoch:  254  Loss:  22.197811126708984\n",
            "Epoch:  255  Loss:  22.106037139892578\n",
            "Epoch:  256  Loss:  22.016204833984375\n",
            "Epoch:  257  Loss:  21.92828369140625\n",
            "Epoch:  258  Loss:  21.84223175048828\n",
            "Epoch:  259  Loss:  21.75801658630371\n",
            "Epoch:  260  Loss:  21.67560577392578\n",
            "Epoch:  261  Loss:  21.59496307373047\n",
            "Epoch:  262  Loss:  21.51605796813965\n",
            "Epoch:  263  Loss:  21.438852310180664\n",
            "Epoch:  264  Loss:  21.363319396972656\n",
            "Epoch:  265  Loss:  21.2894229888916\n",
            "Epoch:  266  Loss:  21.217134475708008\n",
            "Epoch:  267  Loss:  21.146419525146484\n",
            "Epoch:  268  Loss:  21.077251434326172\n",
            "Epoch:  269  Loss:  21.009597778320312\n",
            "Epoch:  270  Loss:  20.943429946899414\n",
            "Epoch:  271  Loss:  20.878719329833984\n",
            "Epoch:  272  Loss:  20.8154354095459\n",
            "Epoch:  273  Loss:  20.753555297851562\n",
            "Epoch:  274  Loss:  20.693044662475586\n",
            "Epoch:  275  Loss:  20.633880615234375\n",
            "Epoch:  276  Loss:  20.57603645324707\n",
            "Epoch:  277  Loss:  20.519485473632812\n",
            "Epoch:  278  Loss:  20.464200973510742\n",
            "Epoch:  279  Loss:  20.410158157348633\n",
            "Epoch:  280  Loss:  20.357332229614258\n",
            "Epoch:  281  Loss:  20.305700302124023\n",
            "Epoch:  282  Loss:  20.25523567199707\n",
            "Epoch:  283  Loss:  20.205915451049805\n",
            "Epoch:  284  Loss:  20.157716751098633\n",
            "Epoch:  285  Loss:  20.11061668395996\n",
            "Epoch:  286  Loss:  20.064590454101562\n",
            "Epoch:  287  Loss:  20.019622802734375\n",
            "Epoch:  288  Loss:  19.975685119628906\n",
            "Epoch:  289  Loss:  19.93276023864746\n",
            "Epoch:  290  Loss:  19.890825271606445\n",
            "Epoch:  291  Loss:  19.849857330322266\n",
            "Epoch:  292  Loss:  19.809843063354492\n",
            "Epoch:  293  Loss:  19.7707576751709\n",
            "Epoch:  294  Loss:  19.732582092285156\n",
            "Epoch:  295  Loss:  19.695297241210938\n",
            "Epoch:  296  Loss:  19.658885955810547\n",
            "Epoch:  297  Loss:  19.623329162597656\n",
            "Epoch:  298  Loss:  19.58860969543457\n",
            "Epoch:  299  Loss:  19.554704666137695\n",
            "Epoch:  300  Loss:  19.521602630615234\n",
            "Epoch:  301  Loss:  19.48928451538086\n",
            "Epoch:  302  Loss:  19.457733154296875\n",
            "Epoch:  303  Loss:  19.42693328857422\n",
            "Epoch:  304  Loss:  19.396865844726562\n",
            "Epoch:  305  Loss:  19.36751937866211\n",
            "Epoch:  306  Loss:  19.3388729095459\n",
            "Epoch:  307  Loss:  19.310916900634766\n",
            "Epoch:  308  Loss:  19.283632278442383\n",
            "Epoch:  309  Loss:  19.257007598876953\n",
            "Epoch:  310  Loss:  19.23102378845215\n",
            "Epoch:  311  Loss:  19.205673217773438\n",
            "Epoch:  312  Loss:  19.18093490600586\n",
            "Epoch:  313  Loss:  19.15679931640625\n",
            "Epoch:  314  Loss:  19.13325309753418\n",
            "Epoch:  315  Loss:  19.11028289794922\n",
            "Epoch:  316  Loss:  19.087875366210938\n",
            "Epoch:  317  Loss:  19.06601905822754\n",
            "Epoch:  318  Loss:  19.044700622558594\n",
            "Epoch:  319  Loss:  19.023906707763672\n",
            "Epoch:  320  Loss:  19.00362777709961\n",
            "Epoch:  321  Loss:  18.983850479125977\n",
            "Epoch:  322  Loss:  18.964567184448242\n",
            "Epoch:  323  Loss:  18.94576072692871\n",
            "Epoch:  324  Loss:  18.927425384521484\n",
            "Epoch:  325  Loss:  18.909547805786133\n",
            "Epoch:  326  Loss:  18.892118453979492\n",
            "Epoch:  327  Loss:  18.875125885009766\n",
            "Epoch:  328  Loss:  18.85856056213379\n",
            "Epoch:  329  Loss:  18.8424129486084\n",
            "Epoch:  330  Loss:  18.826675415039062\n",
            "Epoch:  331  Loss:  18.81133460998535\n",
            "Epoch:  332  Loss:  18.796384811401367\n",
            "Epoch:  333  Loss:  18.781814575195312\n",
            "Epoch:  334  Loss:  18.767614364624023\n",
            "Epoch:  335  Loss:  18.7537784576416\n",
            "Epoch:  336  Loss:  18.740297317504883\n",
            "Epoch:  337  Loss:  18.727161407470703\n",
            "Epoch:  338  Loss:  18.71436309814453\n",
            "Epoch:  339  Loss:  18.70189666748047\n",
            "Epoch:  340  Loss:  18.68975067138672\n",
            "Epoch:  341  Loss:  18.677919387817383\n",
            "Epoch:  342  Loss:  18.666393280029297\n",
            "Epoch:  343  Loss:  18.655168533325195\n",
            "Epoch:  344  Loss:  18.644235610961914\n",
            "Epoch:  345  Loss:  18.633586883544922\n",
            "Epoch:  346  Loss:  18.623218536376953\n",
            "Epoch:  347  Loss:  18.613121032714844\n",
            "Epoch:  348  Loss:  18.603288650512695\n",
            "Epoch:  349  Loss:  18.593717575073242\n",
            "Epoch:  350  Loss:  18.584394454956055\n",
            "Epoch:  351  Loss:  18.575321197509766\n",
            "Epoch:  352  Loss:  18.56648826599121\n",
            "Epoch:  353  Loss:  18.55788803100586\n",
            "Epoch:  354  Loss:  18.549514770507812\n",
            "Epoch:  355  Loss:  18.54136848449707\n",
            "Epoch:  356  Loss:  18.533437728881836\n",
            "Epoch:  357  Loss:  18.525718688964844\n",
            "Epoch:  358  Loss:  18.51820945739746\n",
            "Epoch:  359  Loss:  18.51089859008789\n",
            "Epoch:  360  Loss:  18.503787994384766\n",
            "Epoch:  361  Loss:  18.49686622619629\n",
            "Epoch:  362  Loss:  18.490131378173828\n",
            "Epoch:  363  Loss:  18.48358154296875\n",
            "Epoch:  364  Loss:  18.47720718383789\n",
            "Epoch:  365  Loss:  18.47100830078125\n",
            "Epoch:  366  Loss:  18.464977264404297\n",
            "Epoch:  367  Loss:  18.459110260009766\n",
            "Epoch:  368  Loss:  18.453405380249023\n",
            "Epoch:  369  Loss:  18.44785499572754\n",
            "Epoch:  370  Loss:  18.44245719909668\n",
            "Epoch:  371  Loss:  18.437210083007812\n",
            "Epoch:  372  Loss:  18.432106018066406\n",
            "Epoch:  373  Loss:  18.427143096923828\n",
            "Epoch:  374  Loss:  18.422317504882812\n",
            "Epoch:  375  Loss:  18.417627334594727\n",
            "Epoch:  376  Loss:  18.413066864013672\n",
            "Epoch:  377  Loss:  18.408634185791016\n",
            "Epoch:  378  Loss:  18.40432357788086\n",
            "Epoch:  379  Loss:  18.40013313293457\n",
            "Epoch:  380  Loss:  18.396060943603516\n",
            "Epoch:  381  Loss:  18.39210319519043\n",
            "Epoch:  382  Loss:  18.38825798034668\n",
            "Epoch:  383  Loss:  18.384517669677734\n",
            "Epoch:  384  Loss:  18.38088607788086\n",
            "Epoch:  385  Loss:  18.377357482910156\n",
            "Epoch:  386  Loss:  18.37392807006836\n",
            "Epoch:  387  Loss:  18.370594024658203\n",
            "Epoch:  388  Loss:  18.36735725402832\n",
            "Epoch:  389  Loss:  18.364212036132812\n",
            "Epoch:  390  Loss:  18.36115837097168\n",
            "Epoch:  391  Loss:  18.358190536499023\n",
            "Epoch:  392  Loss:  18.355308532714844\n",
            "Epoch:  393  Loss:  18.352508544921875\n",
            "Epoch:  394  Loss:  18.349788665771484\n",
            "Epoch:  395  Loss:  18.347148895263672\n",
            "Epoch:  396  Loss:  18.344585418701172\n",
            "Epoch:  397  Loss:  18.34209442138672\n",
            "Epoch:  398  Loss:  18.339675903320312\n",
            "Epoch:  399  Loss:  18.33732795715332\n",
            "Epoch:  400  Loss:  18.335050582885742\n",
            "Epoch:  401  Loss:  18.33283805847168\n",
            "Epoch:  402  Loss:  18.330690383911133\n",
            "Epoch:  403  Loss:  18.32860565185547\n",
            "Epoch:  404  Loss:  18.326581954956055\n",
            "Epoch:  405  Loss:  18.324617385864258\n",
            "Epoch:  406  Loss:  18.322710037231445\n",
            "Epoch:  407  Loss:  18.32086181640625\n",
            "Epoch:  408  Loss:  18.31906509399414\n",
            "Epoch:  409  Loss:  18.31732177734375\n",
            "Epoch:  410  Loss:  18.315631866455078\n",
            "Epoch:  411  Loss:  18.31399154663086\n",
            "Epoch:  412  Loss:  18.312400817871094\n",
            "Epoch:  413  Loss:  18.31085777282715\n",
            "Epoch:  414  Loss:  18.309358596801758\n",
            "Epoch:  415  Loss:  18.307905197143555\n",
            "Epoch:  416  Loss:  18.30649757385254\n",
            "Epoch:  417  Loss:  18.305130004882812\n",
            "Epoch:  418  Loss:  18.303804397583008\n",
            "Epoch:  419  Loss:  18.302518844604492\n",
            "Epoch:  420  Loss:  18.301273345947266\n",
            "Epoch:  421  Loss:  18.300064086914062\n",
            "Epoch:  422  Loss:  18.298891067504883\n",
            "Epoch:  423  Loss:  18.297754287719727\n",
            "Epoch:  424  Loss:  18.296653747558594\n",
            "Epoch:  425  Loss:  18.29558563232422\n",
            "Epoch:  426  Loss:  18.29454803466797\n",
            "Epoch:  427  Loss:  18.29354476928711\n",
            "Epoch:  428  Loss:  18.292572021484375\n",
            "Epoch:  429  Loss:  18.291627883911133\n",
            "Epoch:  430  Loss:  18.290714263916016\n",
            "Epoch:  431  Loss:  18.28982925415039\n",
            "Epoch:  432  Loss:  18.288969039916992\n",
            "Epoch:  433  Loss:  18.288137435913086\n",
            "Epoch:  434  Loss:  18.287330627441406\n",
            "Epoch:  435  Loss:  18.286550521850586\n",
            "Epoch:  436  Loss:  18.28579330444336\n",
            "Epoch:  437  Loss:  18.285058975219727\n",
            "Epoch:  438  Loss:  18.28434944152832\n",
            "Epoch:  439  Loss:  18.283660888671875\n",
            "Epoch:  440  Loss:  18.28299331665039\n",
            "Epoch:  441  Loss:  18.2823486328125\n",
            "Epoch:  442  Loss:  18.281723022460938\n",
            "Epoch:  443  Loss:  18.281116485595703\n",
            "Epoch:  444  Loss:  18.28053092956543\n",
            "Epoch:  445  Loss:  18.279964447021484\n",
            "Epoch:  446  Loss:  18.2794132232666\n",
            "Epoch:  447  Loss:  18.278881072998047\n",
            "Epoch:  448  Loss:  18.278366088867188\n",
            "Epoch:  449  Loss:  18.27786636352539\n",
            "Epoch:  450  Loss:  18.27738380432129\n",
            "Epoch:  451  Loss:  18.27691650390625\n",
            "Epoch:  452  Loss:  18.27646255493164\n",
            "Epoch:  453  Loss:  18.276025772094727\n",
            "Epoch:  454  Loss:  18.27560043334961\n",
            "Epoch:  455  Loss:  18.275190353393555\n",
            "Epoch:  456  Loss:  18.27479362487793\n",
            "Epoch:  457  Loss:  18.274410247802734\n",
            "Epoch:  458  Loss:  18.274038314819336\n",
            "Epoch:  459  Loss:  18.273677825927734\n",
            "Epoch:  460  Loss:  18.27332878112793\n",
            "Epoch:  461  Loss:  18.272993087768555\n",
            "Epoch:  462  Loss:  18.272666931152344\n",
            "Epoch:  463  Loss:  18.272350311279297\n",
            "Epoch:  464  Loss:  18.272045135498047\n",
            "Epoch:  465  Loss:  18.271751403808594\n",
            "Epoch:  466  Loss:  18.271465301513672\n",
            "Epoch:  467  Loss:  18.271190643310547\n",
            "Epoch:  468  Loss:  18.270923614501953\n",
            "Epoch:  469  Loss:  18.270666122436523\n",
            "Epoch:  470  Loss:  18.270416259765625\n",
            "Epoch:  471  Loss:  18.270174026489258\n",
            "Epoch:  472  Loss:  18.269941329956055\n",
            "Epoch:  473  Loss:  18.269716262817383\n",
            "Epoch:  474  Loss:  18.269498825073242\n",
            "Epoch:  475  Loss:  18.269289016723633\n",
            "Epoch:  476  Loss:  18.269084930419922\n",
            "Epoch:  477  Loss:  18.26888656616211\n",
            "Epoch:  478  Loss:  18.26869773864746\n",
            "Epoch:  479  Loss:  18.268512725830078\n",
            "Epoch:  480  Loss:  18.268335342407227\n",
            "Epoch:  481  Loss:  18.268163681030273\n",
            "Epoch:  482  Loss:  18.26799774169922\n",
            "Epoch:  483  Loss:  18.267837524414062\n",
            "Epoch:  484  Loss:  18.267683029174805\n",
            "Epoch:  485  Loss:  18.267534255981445\n",
            "Epoch:  486  Loss:  18.26738929748535\n",
            "Epoch:  487  Loss:  18.267250061035156\n",
            "Epoch:  488  Loss:  18.267114639282227\n",
            "Epoch:  489  Loss:  18.266984939575195\n",
            "Epoch:  490  Loss:  18.26685905456543\n",
            "Epoch:  491  Loss:  18.26673698425293\n",
            "Epoch:  492  Loss:  18.266620635986328\n",
            "Epoch:  493  Loss:  18.26650619506836\n",
            "Epoch:  494  Loss:  18.266395568847656\n",
            "Epoch:  495  Loss:  18.26629066467285\n",
            "Epoch:  496  Loss:  18.266191482543945\n",
            "Epoch:  497  Loss:  18.266090393066406\n",
            "Epoch:  498  Loss:  18.265995025634766\n",
            "Epoch:  499  Loss:  18.26590347290039\n",
            "Epoch:  500  Loss:  18.26581573486328\n"
          ],
          "name": "stdout"
        }
      ]
    },
    {
      "cell_type": "code",
      "metadata": {
        "id": "JORAF5tNAJub",
        "colab_type": "code",
        "colab": {
          "base_uri": "https://localhost:8080/",
          "height": 282
        },
        "outputId": "571dc317-1b6a-4d0b-8b4c-acf448b061b8"
      },
      "source": [
        "plt.plot(range(epochs), losses)"
      ],
      "execution_count": 12,
      "outputs": [
        {
          "output_type": "execute_result",
          "data": {
            "text/plain": [
              "[<matplotlib.lines.Line2D at 0x7fe9574a3518>]"
            ]
          },
          "metadata": {
            "tags": []
          },
          "execution_count": 12
        },
        {
          "output_type": "display_data",
          "data": {
            "image/png": "[encoded data removed]",
            "text/plain": [
              "<Figure size 432x288 with 1 Axes>"
            ]
          },
          "metadata": {
            "tags": []
          }
        }
      ]
    }
  ]
}